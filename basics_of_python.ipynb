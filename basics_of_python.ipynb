{
  "nbformat": 4,
  "nbformat_minor": 0,
  "metadata": {
    "colab": {
      "name": "basics of python.ipynb",
      "version": "0.3.2",
      "provenance": [],
      "collapsed_sections": [],
      "include_colab_link": true
    },
    "kernelspec": {
      "name": "python3",
      "display_name": "Python 3"
    }
  },
  "cells": [
    {
      "cell_type": "markdown",
      "metadata": {
        "id": "view-in-github",
        "colab_type": "text"
      },
      "source": [
        "<a href=\"https://colab.research.google.com/github/dipbanik/MyTectraJuly/blob/develop/basics_of_python.ipynb\" target=\"_parent\"><img src=\"https://colab.research.google.com/assets/colab-badge.svg\" alt=\"Open In Colab\"/></a>"
      ]
    },
    {
      "cell_type": "code",
      "metadata": {
        "id": "kkjY3KGy0uP6",
        "colab_type": "code",
        "colab": {}
      },
      "source": [
        "a = ['str', 1, 2, 3.0]"
      ],
      "execution_count": 0,
      "outputs": []
    },
    {
      "cell_type": "code",
      "metadata": {
        "id": "E75J00nj00gI",
        "colab_type": "code",
        "outputId": "3a184524-c7f4-4280-e43f-64a315c90949",
        "colab": {
          "base_uri": "https://localhost:8080/",
          "height": 34
        }
      },
      "source": [
        "type(a)"
      ],
      "execution_count": 0,
      "outputs": [
        {
          "output_type": "execute_result",
          "data": {
            "text/plain": [
              "list"
            ]
          },
          "metadata": {
            "tags": []
          },
          "execution_count": 27
        }
      ]
    },
    {
      "cell_type": "code",
      "metadata": {
        "id": "BV7KB-jZ07f3",
        "colab_type": "code",
        "colab": {}
      },
      "source": [
        "a = ()"
      ],
      "execution_count": 0,
      "outputs": []
    },
    {
      "cell_type": "code",
      "metadata": {
        "id": "b7dMg1LG1HVg",
        "colab_type": "code",
        "outputId": "7e75d482-f550-48a5-fad5-06e622ed8653",
        "colab": {
          "base_uri": "https://localhost:8080/",
          "height": 34
        }
      },
      "source": [
        "type(a)"
      ],
      "execution_count": 0,
      "outputs": [
        {
          "output_type": "execute_result",
          "data": {
            "text/plain": [
              "tuple"
            ]
          },
          "metadata": {
            "tags": []
          },
          "execution_count": 29
        }
      ]
    },
    {
      "cell_type": "markdown",
      "metadata": {
        "id": "FyFCg0SOw2mT",
        "colab_type": "text"
      },
      "source": [
        "Difference between tuple and list?\n",
        "\n",
        "List is mutable in nature while tuples are immutable."
      ]
    },
    {
      "cell_type": "code",
      "metadata": {
        "id": "flnXYBPb1I04",
        "colab_type": "code",
        "colab": {}
      },
      "source": [
        "a = (0,1,2,3,4)"
      ],
      "execution_count": 0,
      "outputs": []
    },
    {
      "cell_type": "code",
      "metadata": {
        "id": "HZWjc8ls1NrW",
        "colab_type": "code",
        "outputId": "46831c57-1a59-4e76-daa9-90c8ddb219da",
        "colab": {
          "base_uri": "https://localhost:8080/",
          "height": 34
        }
      },
      "source": [
        "2 in a"
      ],
      "execution_count": 0,
      "outputs": [
        {
          "output_type": "execute_result",
          "data": {
            "text/plain": [
              "True"
            ]
          },
          "metadata": {
            "tags": []
          },
          "execution_count": 7
        }
      ]
    },
    {
      "cell_type": "code",
      "metadata": {
        "id": "_lVxUVTw1X0q",
        "colab_type": "code",
        "outputId": "f739df90-fcc7-42c3-d562-12ce085e0f76",
        "colab": {
          "base_uri": "https://localhost:8080/",
          "height": 34
        }
      },
      "source": [
        "10 in a"
      ],
      "execution_count": 0,
      "outputs": [
        {
          "output_type": "execute_result",
          "data": {
            "text/plain": [
              "False"
            ]
          },
          "metadata": {
            "tags": []
          },
          "execution_count": 8
        }
      ]
    },
    {
      "cell_type": "code",
      "metadata": {
        "id": "GkQ5pQyi1ZVv",
        "colab_type": "code",
        "colab": {}
      },
      "source": [
        "s = 'homework'"
      ],
      "execution_count": 0,
      "outputs": []
    },
    {
      "cell_type": "code",
      "metadata": {
        "id": "YcIeegIf1iEz",
        "colab_type": "code",
        "outputId": "0f3498b4-2712-4f2b-ab6f-be5df0a7bb31",
        "colab": {
          "base_uri": "https://localhost:8080/",
          "height": 34
        }
      },
      "source": [
        "len(s)\n"
      ],
      "execution_count": 0,
      "outputs": [
        {
          "output_type": "execute_result",
          "data": {
            "text/plain": [
              "8"
            ]
          },
          "metadata": {
            "tags": []
          },
          "execution_count": 10
        }
      ]
    },
    {
      "cell_type": "code",
      "metadata": {
        "id": "Ad0JOfBF1jTD",
        "colab_type": "code",
        "outputId": "eba3d228-b999-4a1b-af74-81e91ad3a2af",
        "colab": {
          "base_uri": "https://localhost:8080/",
          "height": 34
        }
      },
      "source": [
        "id(s)"
      ],
      "execution_count": 0,
      "outputs": [
        {
          "output_type": "execute_result",
          "data": {
            "text/plain": [
              "140255340927152"
            ]
          },
          "metadata": {
            "tags": []
          },
          "execution_count": 11
        }
      ]
    },
    {
      "cell_type": "code",
      "metadata": {
        "id": "yZN3hFUB1oRY",
        "colab_type": "code",
        "colab": {}
      },
      "source": [
        "s = \"port\""
      ],
      "execution_count": 0,
      "outputs": []
    },
    {
      "cell_type": "code",
      "metadata": {
        "id": "yg-AMyrZ1sh0",
        "colab_type": "code",
        "outputId": "b4e2864a-4363-4570-c33d-8f9945712328",
        "colab": {
          "base_uri": "https://localhost:8080/",
          "height": 34
        }
      },
      "source": [
        "id(s)"
      ],
      "execution_count": 0,
      "outputs": [
        {
          "output_type": "execute_result",
          "data": {
            "text/plain": [
              "140255890984440"
            ]
          },
          "metadata": {
            "tags": []
          },
          "execution_count": 13
        }
      ]
    },
    {
      "cell_type": "code",
      "metadata": {
        "id": "KolU4_tb1ts3",
        "colab_type": "code",
        "outputId": "2e2733f4-15b5-48d7-ec96-79f60250c0fb",
        "colab": {
          "base_uri": "https://localhost:8080/",
          "height": 34
        }
      },
      "source": [
        "id(s)"
      ],
      "execution_count": 0,
      "outputs": [
        {
          "output_type": "execute_result",
          "data": {
            "text/plain": [
              "140255890984440"
            ]
          },
          "metadata": {
            "tags": []
          },
          "execution_count": 14
        }
      ]
    },
    {
      "cell_type": "code",
      "metadata": {
        "id": "n6qYhHhg1xdk",
        "colab_type": "code",
        "colab": {}
      },
      "source": [
        "a = s"
      ],
      "execution_count": 0,
      "outputs": []
    },
    {
      "cell_type": "code",
      "metadata": {
        "id": "m306lgLR19DN",
        "colab_type": "code",
        "outputId": "8f95bd50-ab2b-4d01-891f-41352fda01c2",
        "colab": {
          "base_uri": "https://localhost:8080/",
          "height": 34
        }
      },
      "source": [
        "id(s)"
      ],
      "execution_count": 0,
      "outputs": [
        {
          "output_type": "execute_result",
          "data": {
            "text/plain": [
              "140255890984440"
            ]
          },
          "metadata": {
            "tags": []
          },
          "execution_count": 16
        }
      ]
    },
    {
      "cell_type": "code",
      "metadata": {
        "id": "sR27RYqE1_0Z",
        "colab_type": "code",
        "colab": {}
      },
      "source": [
        "s = a"
      ],
      "execution_count": 0,
      "outputs": []
    },
    {
      "cell_type": "code",
      "metadata": {
        "id": "642okZ672B3h",
        "colab_type": "code",
        "outputId": "1c1b746d-359d-4888-8bd4-21c769c0e682",
        "colab": {
          "base_uri": "https://localhost:8080/",
          "height": 34
        }
      },
      "source": [
        "id(s)"
      ],
      "execution_count": 0,
      "outputs": [
        {
          "output_type": "execute_result",
          "data": {
            "text/plain": [
              "140255890984440"
            ]
          },
          "metadata": {
            "tags": []
          },
          "execution_count": 18
        }
      ]
    },
    {
      "cell_type": "code",
      "metadata": {
        "id": "7bAWzY0w2CuN",
        "colab_type": "code",
        "colab": {}
      },
      "source": [
        "s = \"hello\" + \" world\""
      ],
      "execution_count": 0,
      "outputs": []
    },
    {
      "cell_type": "code",
      "metadata": {
        "id": "tMCKI8iI2XSU",
        "colab_type": "code",
        "outputId": "e44d6aca-a4b7-4f29-cd82-e433f084b05b",
        "colab": {
          "base_uri": "https://localhost:8080/",
          "height": 34
        }
      },
      "source": [
        "s"
      ],
      "execution_count": 0,
      "outputs": [
        {
          "output_type": "execute_result",
          "data": {
            "text/plain": [
              "'hello world'"
            ]
          },
          "metadata": {
            "tags": []
          },
          "execution_count": 34
        }
      ]
    },
    {
      "cell_type": "code",
      "metadata": {
        "id": "DLV1hSgO2Xun",
        "colab_type": "code",
        "outputId": "9edc03e9-e3f0-4bb4-b01d-a2580aaa752a",
        "colab": {
          "base_uri": "https://localhost:8080/",
          "height": 34
        }
      },
      "source": [
        "s.split(' ')"
      ],
      "execution_count": 0,
      "outputs": [
        {
          "output_type": "execute_result",
          "data": {
            "text/plain": [
              "['hello', 'world']"
            ]
          },
          "metadata": {
            "tags": []
          },
          "execution_count": 35
        }
      ]
    },
    {
      "cell_type": "code",
      "metadata": {
        "id": "1f6xnXkT2q_H",
        "colab_type": "code",
        "outputId": "02bccf35-2d22-4dfd-f0b5-17151faa833d",
        "colab": {
          "base_uri": "https://localhost:8080/",
          "height": 34
        }
      },
      "source": [
        "s.split()"
      ],
      "execution_count": 0,
      "outputs": [
        {
          "output_type": "execute_result",
          "data": {
            "text/plain": [
              "['hello', 'world']"
            ]
          },
          "metadata": {
            "tags": []
          },
          "execution_count": 24
        }
      ]
    },
    {
      "cell_type": "code",
      "metadata": {
        "id": "rBC4ls3O2r7z",
        "colab_type": "code",
        "outputId": "9373b3a8-6195-4bff-8598-e51eb38717ca",
        "colab": {
          "base_uri": "https://localhost:8080/",
          "height": 34
        }
      },
      "source": [
        "range(5)"
      ],
      "execution_count": 0,
      "outputs": [
        {
          "output_type": "execute_result",
          "data": {
            "text/plain": [
              "range(0, 5)"
            ]
          },
          "metadata": {
            "tags": []
          },
          "execution_count": 25
        }
      ]
    },
    {
      "cell_type": "code",
      "metadata": {
        "id": "PY578YMZ3qn9",
        "colab_type": "code",
        "outputId": "929195b7-85d0-4195-a7be-50c3b01d0e83",
        "colab": {
          "base_uri": "https://localhost:8080/",
          "height": 34
        }
      },
      "source": [
        "print(range(5))"
      ],
      "execution_count": 0,
      "outputs": [
        {
          "output_type": "stream",
          "text": [
            "range(0, 5)\n"
          ],
          "name": "stdout"
        }
      ]
    },
    {
      "cell_type": "code",
      "metadata": {
        "id": "Qyjn2V6WynhQ",
        "colab_type": "code",
        "outputId": "5457ad38-314b-4634-b516-e66e67bb515a",
        "colab": {
          "base_uri": "https://localhost:8080/",
          "height": 34
        }
      },
      "source": [
        "a = \"Hello, World!\"\n",
        "print(a.replace(\"H\", \"J\"))"
      ],
      "execution_count": 0,
      "outputs": [
        {
          "output_type": "stream",
          "text": [
            "Jello, World!\n"
          ],
          "name": "stdout"
        }
      ]
    },
    {
      "cell_type": "code",
      "metadata": {
        "id": "lRCLSGT4yuqz",
        "colab_type": "code",
        "outputId": "6ab64fb6-e5c9-42d0-ceeb-d094d91d2597",
        "colab": {
          "base_uri": "https://localhost:8080/",
          "height": 34
        }
      },
      "source": [
        "a = \"Hello, World!\"\n",
        "print(a.upper())"
      ],
      "execution_count": 0,
      "outputs": [
        {
          "output_type": "stream",
          "text": [
            "HELLO, WORLD!\n"
          ],
          "name": "stdout"
        }
      ]
    },
    {
      "cell_type": "code",
      "metadata": {
        "id": "n9IqxHAjyy8r",
        "colab_type": "code",
        "outputId": "eec54fba-83cd-41d0-ffc5-2a670303af43",
        "colab": {
          "base_uri": "https://localhost:8080/",
          "height": 34
        }
      },
      "source": [
        "print(a[2:5])"
      ],
      "execution_count": 0,
      "outputs": [
        {
          "output_type": "stream",
          "text": [
            "llo\n"
          ],
          "name": "stdout"
        }
      ]
    },
    {
      "cell_type": "code",
      "metadata": {
        "id": "whJ3kwkG3wdo",
        "colab_type": "code",
        "colab": {}
      },
      "source": [
        "a = [1,2,3,4,5,5]"
      ],
      "execution_count": 0,
      "outputs": []
    },
    {
      "cell_type": "code",
      "metadata": {
        "id": "NWa74KqL9bsF",
        "colab_type": "code",
        "outputId": "6f8c16f4-15ad-449e-b7c8-afef1e394e61",
        "colab": {
          "base_uri": "https://localhost:8080/",
          "height": 34
        }
      },
      "source": [
        "set(a)"
      ],
      "execution_count": 0,
      "outputs": [
        {
          "output_type": "execute_result",
          "data": {
            "text/plain": [
              "{1, 2, 3, 4, 5}"
            ]
          },
          "metadata": {
            "tags": []
          },
          "execution_count": 28
        }
      ]
    },
    {
      "cell_type": "code",
      "metadata": {
        "id": "KL0zgDf69czb",
        "colab_type": "code",
        "colab": {}
      },
      "source": [
        "a = list(set(a))"
      ],
      "execution_count": 0,
      "outputs": []
    },
    {
      "cell_type": "code",
      "metadata": {
        "id": "CZaw17a89gFl",
        "colab_type": "code",
        "outputId": "5d1c457a-ec97-42b2-b8d2-166af614057b",
        "colab": {
          "base_uri": "https://localhost:8080/",
          "height": 34
        }
      },
      "source": [
        "a"
      ],
      "execution_count": 0,
      "outputs": [
        {
          "output_type": "execute_result",
          "data": {
            "text/plain": [
              "[1, 2, 3, 4, 5]"
            ]
          },
          "metadata": {
            "tags": []
          },
          "execution_count": 31
        }
      ]
    },
    {
      "cell_type": "code",
      "metadata": {
        "id": "GsLAhE0P9lEJ",
        "colab_type": "code",
        "colab": {}
      },
      "source": [
        "re = ['re']"
      ],
      "execution_count": 0,
      "outputs": []
    },
    {
      "cell_type": "code",
      "metadata": {
        "id": "nGBNR9lnps2c",
        "colab_type": "code",
        "outputId": "8293b665-5064-4935-c239-f4642676ffc7",
        "colab": {
          "base_uri": "https://localhost:8080/",
          "height": 34
        }
      },
      "source": [
        "print(re*3)"
      ],
      "execution_count": 0,
      "outputs": [
        {
          "output_type": "stream",
          "text": [
            "['re', 're', 're']\n"
          ],
          "name": "stdout"
        }
      ]
    },
    {
      "cell_type": "code",
      "metadata": {
        "id": "3IpHNTxSpuVP",
        "colab_type": "code",
        "outputId": "20085ca6-b214-4f98-c7ea-a557d39b53e9",
        "colab": {
          "base_uri": "https://localhost:8080/",
          "height": 68
        }
      },
      "source": [
        "for fruit in ['banana','apples','grapes'] :\n",
        "  print(\"I like \" + fruit)"
      ],
      "execution_count": 0,
      "outputs": [
        {
          "output_type": "stream",
          "text": [
            "I like banana\n",
            "I like apples\n",
            "I like grapes\n"
          ],
          "name": "stdout"
        }
      ]
    },
    {
      "cell_type": "code",
      "metadata": {
        "id": "27WZcnBrqfkc",
        "colab_type": "code",
        "outputId": "076ae9ad-27fa-4e3c-da69-1ba72a2733ff",
        "colab": {
          "base_uri": "https://localhost:8080/",
          "height": 34
        }
      },
      "source": [
        " new = int(input(\"Enter a number\"))"
      ],
      "execution_count": 0,
      "outputs": [
        {
          "output_type": "stream",
          "text": [
            "Enter a number24\n"
          ],
          "name": "stdout"
        }
      ]
    },
    {
      "cell_type": "code",
      "metadata": {
        "id": "meL6V8TUt7T9",
        "colab_type": "code",
        "outputId": "a10e5cfd-06e8-4261-a33b-b4a1c88895e7",
        "colab": {
          "base_uri": "https://localhost:8080/",
          "height": 34
        }
      },
      "source": [
        "new\n",
        "\n"
      ],
      "execution_count": 0,
      "outputs": [
        {
          "output_type": "execute_result",
          "data": {
            "text/plain": [
              "24"
            ]
          },
          "metadata": {
            "tags": []
          },
          "execution_count": 7
        }
      ]
    },
    {
      "cell_type": "code",
      "metadata": {
        "id": "oB-6f1UAt9q9",
        "colab_type": "code",
        "colab": {}
      },
      "source": [
        "def record_score(name, score=0) :\n",
        "  print( name + ' scored ' + str(score))"
      ],
      "execution_count": 0,
      "outputs": []
    },
    {
      "cell_type": "code",
      "metadata": {
        "id": "VT0Cu0dtuUjR",
        "colab_type": "code",
        "outputId": "e836e536-7ce1-403d-dc4c-14e33a32dd70",
        "colab": {
          "base_uri": "https://localhost:8080/",
          "height": 34
        }
      },
      "source": [
        "record_score('Dip', 100)"
      ],
      "execution_count": 0,
      "outputs": [
        {
          "output_type": "stream",
          "text": [
            "Dip scored 100\n"
          ],
          "name": "stdout"
        }
      ]
    },
    {
      "cell_type": "code",
      "metadata": {
        "id": "Yo55_S4ZvO2g",
        "colab_type": "code",
        "colab": {}
      },
      "source": [
        "def add_items(new_items, base_items=None):\n",
        "  if base_items is None:\n",
        "    base_items = []\n",
        "  for item in new_items:\n",
        "    base_items.append(item)\n",
        "  return base_items"
      ],
      "execution_count": 0,
      "outputs": []
    },
    {
      "cell_type": "code",
      "metadata": {
        "id": "63Ckb863veq-",
        "colab_type": "code",
        "outputId": "6668e234-4a55-44a6-cd55-056183568198",
        "colab": {
          "base_uri": "https://localhost:8080/",
          "height": 34
        }
      },
      "source": [
        "add_items((1, 2, 3))"
      ],
      "execution_count": 0,
      "outputs": [
        {
          "output_type": "execute_result",
          "data": {
            "text/plain": [
              "[1, 2, 3]"
            ]
          },
          "metadata": {
            "tags": []
          },
          "execution_count": 22
        }
      ]
    },
    {
      "cell_type": "code",
      "metadata": {
        "id": "wWTWqQuSvjsr",
        "colab_type": "code",
        "outputId": "ff5727c5-bd37-4474-dc9a-1c310d03d8e2",
        "colab": {
          "base_uri": "https://localhost:8080/",
          "height": 34
        }
      },
      "source": [
        "add_items(())"
      ],
      "execution_count": 0,
      "outputs": [
        {
          "output_type": "execute_result",
          "data": {
            "text/plain": [
              "[]"
            ]
          },
          "metadata": {
            "tags": []
          },
          "execution_count": 24
        }
      ]
    },
    {
      "cell_type": "code",
      "metadata": {
        "id": "IEHUZ5Agvsmm",
        "colab_type": "code",
        "outputId": "63bb5bc1-a0a4-4760-a014-5d08f85a9945",
        "colab": {
          "base_uri": "https://localhost:8080/",
          "height": 34
        }
      },
      "source": [
        "class Person:\n",
        "  def __init__(mysillyobject, name, age):\n",
        "    mysillyobject.name = name\n",
        "    mysillyobject.age = age\n",
        "\n",
        "  def myfunc(abc):\n",
        "    print(\"Hello my name is \" + abc.name)\n",
        "\n",
        "p1 = Person(\"John\", 36)\n",
        "p1.myfunc()"
      ],
      "execution_count": 0,
      "outputs": [
        {
          "output_type": "stream",
          "text": [
            "Hello my name is John\n"
          ],
          "name": "stdout"
        }
      ]
    },
    {
      "cell_type": "markdown",
      "metadata": {
        "id": "ie5FbZq0zvoh",
        "colab_type": "text"
      },
      "source": [
        "The self parameter is a reference to the current instance of the class, and is used to access variables that belongs to the class.\n",
        "The self parameter can be called anything but self is the more commonly used term."
      ]
    },
    {
      "cell_type": "code",
      "metadata": {
        "id": "FnKMQ_3uwxV4",
        "colab_type": "code",
        "outputId": "17a07be9-1a0b-4502-dda0-933507643191",
        "colab": {
          "base_uri": "https://localhost:8080/",
          "height": 102
        }
      },
      "source": [
        "pip install pandas"
      ],
      "execution_count": 0,
      "outputs": [
        {
          "output_type": "stream",
          "text": [
            "Requirement already satisfied: pandas in /usr/local/lib/python3.6/dist-packages (0.24.2)\n",
            "Requirement already satisfied: pytz>=2011k in /usr/local/lib/python3.6/dist-packages (from pandas) (2018.9)\n",
            "Requirement already satisfied: numpy>=1.12.0 in /usr/local/lib/python3.6/dist-packages (from pandas) (1.16.4)\n",
            "Requirement already satisfied: python-dateutil>=2.5.0 in /usr/local/lib/python3.6/dist-packages (from pandas) (2.5.3)\n",
            "Requirement already satisfied: six>=1.5 in /usr/local/lib/python3.6/dist-packages (from python-dateutil>=2.5.0->pandas) (1.12.0)\n"
          ],
          "name": "stdout"
        }
      ]
    },
    {
      "cell_type": "code",
      "metadata": {
        "id": "-A5y9HIw1RZJ",
        "colab_type": "code",
        "colab": {}
      },
      "source": [
        "import os"
      ],
      "execution_count": 0,
      "outputs": []
    },
    {
      "cell_type": "code",
      "metadata": {
        "id": "MXb5mKG71Uk8",
        "colab_type": "code",
        "colab": {}
      },
      "source": [
        "import pandas as pd"
      ],
      "execution_count": 0,
      "outputs": []
    },
    {
      "cell_type": "code",
      "metadata": {
        "id": "wS2gAKGx1XSw",
        "colab_type": "code",
        "colab": {}
      },
      "source": [
        "#get data from URL\n",
        "!wget -nc https://data.consumerfinance.gov/api/views/s6ew-h6mp/rows.csv?accessType=DOWNLOAD"
      ],
      "execution_count": 0,
      "outputs": []
    },
    {
      "cell_type": "code",
      "metadata": {
        "id": "YA-CYhss4xYP",
        "colab_type": "code",
        "colab": {}
      },
      "source": [
        "# rename the file\n",
        "!mv rows.csv?accessType=DOWNLOAD data.csv"
      ],
      "execution_count": 0,
      "outputs": []
    },
    {
      "cell_type": "code",
      "metadata": {
        "id": "pZ_2Zwdm47ft",
        "colab_type": "code",
        "outputId": "3faca015-f4de-4f12-f5fa-a876cd5e2060",
        "colab": {
          "base_uri": "https://localhost:8080/",
          "height": 191
        }
      },
      "source": [
        "n = 10\n",
        "count = 1\n",
        "for i in range(10, 0 , -1):\n",
        "  if i>= n/2:\n",
        "    print(\" \" * (int(i/2)-1), \"*\" * count)\n",
        "    count = count + 1\n",
        "  else:\n",
        "    count -= 1\n",
        "    print(\" \" * (i), \"*\" * count )\n",
        "    "
      ],
      "execution_count": 0,
      "outputs": [
        {
          "output_type": "stream",
          "text": [
            "     *\n",
            "    **\n",
            "    ***\n",
            "   ****\n",
            "   *****\n",
            "  ******\n",
            "     **\n",
            "    **\n",
            "   **\n",
            "  **\n"
          ],
          "name": "stdout"
        }
      ]
    },
    {
      "cell_type": "code",
      "metadata": {
        "id": "1YnpMKAJQUfW",
        "colab_type": "code",
        "outputId": "08c70055-5689-470a-d1e9-8008d7f3c45b",
        "colab": {
          "base_uri": "https://localhost:8080/",
          "height": 191
        }
      },
      "source": [
        "def patr(num):\n",
        "  count=0\n",
        "  k=int((num+1)/2)\n",
        "  for i in range (1,num):\n",
        "    if i<=int(num/2):\n",
        "      k=k-1\n",
        "      print(\" \"*(k),\"*\"*i)\n",
        "    else:\n",
        "      count+=2\n",
        "      k=k+1\n",
        "      print(\" \"*(k),\"*\"*(i-count))\n",
        "      \n",
        "val=int(input(\"enter a number\"))\n",
        "patr(val)\n"
      ],
      "execution_count": 0,
      "outputs": [
        {
          "output_type": "stream",
          "text": [
            "enter a number10\n",
            "     *\n",
            "    **\n",
            "   ***\n",
            "  ****\n",
            " *****\n",
            "  ****\n",
            "   ***\n",
            "    **\n",
            "     *\n"
          ],
          "name": "stdout"
        }
      ]
    },
    {
      "cell_type": "code",
      "metadata": {
        "id": "0ZuZxJl7ReOt",
        "colab_type": "code",
        "outputId": "6169523b-b744-49ce-ecee-f0fe8e19cdd6",
        "colab": {
          "base_uri": "https://localhost:8080/",
          "height": 52
        }
      },
      "source": [
        "num = int(input(\"Enter a number: \"))\n",
        "if num > 1:\n",
        "   for i in range(2,num):\n",
        "       if (num % i) == 0:\n",
        "           print(num,\"is not a prime number\")\n",
        "           break\n",
        "   else:\n",
        "    print(num,\"is a prime number\")\n",
        "else:  \n",
        "   print(num,\"is not a prime number\")"
      ],
      "execution_count": 0,
      "outputs": [
        {
          "output_type": "stream",
          "text": [
            "Enter a number: 7\n",
            "7 is a prime number\n"
          ],
          "name": "stdout"
        }
      ]
    },
    {
      "cell_type": "code",
      "metadata": {
        "id": "aU22959FVm_W",
        "colab_type": "code",
        "outputId": "c7c67c1e-33c2-4026-f064-7f60601d0197",
        "colab": {
          "base_uri": "https://localhost:8080/",
          "height": 35
        }
      },
      "source": [
        "#reverse a string\n",
        "a = '271'\n",
        "a = a[::-1]\n",
        "a"
      ],
      "execution_count": 0,
      "outputs": [
        {
          "output_type": "execute_result",
          "data": {
            "text/plain": [
              "'172'"
            ]
          },
          "metadata": {
            "tags": []
          },
          "execution_count": 22
        }
      ]
    },
    {
      "cell_type": "code",
      "metadata": {
        "id": "pzh6YcmFdV68",
        "colab_type": "code",
        "colab": {}
      },
      "source": [
        "n = [1,2,3,4]\n",
        "z = [5,6,7,8]\n",
        "n = n+z\n",
        "#n.append(z)"
      ],
      "execution_count": 0,
      "outputs": []
    },
    {
      "cell_type": "code",
      "metadata": {
        "id": "8SDh7VRZd6Yx",
        "colab_type": "code",
        "outputId": "0aa60b06-addf-4cfb-c69b-690a81b4fb3d",
        "colab": {
          "base_uri": "https://localhost:8080/",
          "height": 35
        }
      },
      "source": [
        "n"
      ],
      "execution_count": 0,
      "outputs": [
        {
          "output_type": "execute_result",
          "data": {
            "text/plain": [
              "[1, 2, 3, 4, 5, 6, 7, 8]"
            ]
          },
          "metadata": {
            "tags": []
          },
          "execution_count": 26
        }
      ]
    },
    {
      "cell_type": "code",
      "metadata": {
        "id": "fbuQVVdRm2Rf",
        "colab_type": "code",
        "colab": {}
      },
      "source": [
        ""
      ],
      "execution_count": 0,
      "outputs": []
    },
    {
      "cell_type": "markdown",
      "metadata": {
        "id": "Lo0aVhZQm-ik",
        "colab_type": "text"
      },
      "source": [
        "## List comprehension\n",
        "* A common pattern is to iterate through the elements of the list and generate a new list\n",
        "  * e.g. \n",
        "  ```python\n",
        "  x = [1, 2, 3]\n",
        "  y = []\n",
        "  for element in x: \n",
        "      y.append(element * element)\n",
        "  print(x)\n",
        "  print(y)\n",
        "  ```\n",
        "* Python provides list comprehension to accomplish the same\n",
        "using less code\n",
        "```python\n",
        "  # Note syntax\n",
        "  # y is a new list with elements being derived from x\n",
        "  y = [element * element for element in x]\n",
        "```\n",
        "\n"
      ]
    },
    {
      "cell_type": "code",
      "metadata": {
        "id": "Un4foC5ym8-U",
        "colab_type": "code",
        "colab": {
          "base_uri": "https://localhost:8080/",
          "height": 102
        },
        "outputId": "141e2e65-9f2e-48da-b0c6-a5aa93b7d123"
      },
      "source": [
        "x = [1, 2, 3]\n",
        "y = list()\n",
        "for element in x: \n",
        "    y.append(element * element)\n",
        "print(x)\n",
        "print(\"Using for loop\")\n",
        "print(y)\n",
        "\n",
        "\n",
        "y = [element * element for element in x]\n",
        "print(\"Using list comprehension\")\n",
        "print(y)"
      ],
      "execution_count": 7,
      "outputs": [
        {
          "output_type": "stream",
          "text": [
            "[1, 2, 3]\n",
            "Using for loop\n",
            "[1, 4, 9]\n",
            "Using list comprehension\n",
            "[1, 4, 9]\n"
          ],
          "name": "stdout"
        }
      ]
    },
    {
      "cell_type": "markdown",
      "metadata": {
        "id": "53gWAa3mnHeu",
        "colab_type": "text"
      },
      "source": [
        "# lambdas \n",
        "\n",
        "* Lambdas are a way to write\n",
        "  * Nameless functions\n",
        "  * inline functions\n",
        "* Example  \n",
        "\n",
        "```python\n",
        "def square(x):\n",
        "    return x * x\n",
        "\n",
        "sqr_fn = lambda x: x * x\n",
        "\n",
        "x = [1, 2, 3]\n",
        "y = [square(elem) for elem in x]\n",
        "y = map(lambda elem: elem * elem , x)\n",
        "\n",
        "print square(10)\n",
        "print sqr_fn(10)\n",
        "```"
      ]
    },
    {
      "cell_type": "code",
      "metadata": {
        "id": "ww4tI_CwnII9",
        "colab_type": "code",
        "colab": {
          "base_uri": "https://localhost:8080/",
          "height": 51
        },
        "outputId": "e5fee7e4-340d-4b10-b696-a3ecf4d7b02e"
      },
      "source": [
        "def square(x):\n",
        "    return x * x\n",
        "\n",
        "sqr_fn = lambda x: x * x\n",
        "\n",
        "print(square(10))\n",
        "print( sqr_fn(10))"
      ],
      "execution_count": 6,
      "outputs": [
        {
          "output_type": "stream",
          "text": [
            "100\n",
            "100\n"
          ],
          "name": "stdout"
        }
      ]
    },
    {
      "cell_type": "code",
      "metadata": {
        "id": "8kZ9PpOnnOrS",
        "colab_type": "code",
        "colab": {}
      },
      "source": [
        "# (a) Using a for loop, iterate through the list x\n",
        "# and print an item if its divisible by 2 and less than 6\n",
        "# (b) Using a for loop, iterate through the dictionary y\n",
        "# and print a single string of the form \"company, ceo\"\n",
        "# e.g. \"CEO: Apple, Name: Tim Cook\" will be the third entry\n",
        "x = [1, 2, 3, 4, 5, 6, 7, 8, 9, 10]\n",
        "y = {\n",
        "    'Satya Nadella': 'Microsoft',\n",
        "    'Jeff Bezos': 'Amazon',\n",
        "    'Tim Cook': 'Apple'\n",
        "}\n",
        "\n",
        "for item in x:\n",
        "    if(item % 2 == 0)  & (item < 6):\n",
        "        print(item)\n",
        "\n",
        "for ceo,company in y.items():\n",
        "    print('CEO: {:10}, Name: {:15}'.format(company,ceo))"
      ],
      "execution_count": 0,
      "outputs": []
    },
    {
      "cell_type": "markdown",
      "metadata": {
        "id": "Odvz3pcdrQaU",
        "colab_type": "text"
      },
      "source": [
        "# Numpy \n",
        "* Numpy is a python library for numeric processing\n",
        "  * Efficient way to deal with arrays and matrices\n",
        "  * Allows operation on entire arrays, matrices\n",
        "* Implemented in C and uses optimized math instructions for speed\n",
        "* Pandas is built on top of Numpy. \n",
        "  * Pandas objects usually accept Numpy arrays\n",
        "* Resources\n",
        "  * https://docs.scipy.org/doc/numpy-dev/user/quickstart.html"
      ]
    },
    {
      "cell_type": "markdown",
      "metadata": {
        "id": "0frA9srHrV-t",
        "colab_type": "text"
      },
      "source": [
        "## Example\n",
        "\n",
        "```python\n",
        "import numpy as np\n",
        "x = [1, 2, 3]\n",
        "dx = [ 2 * x for x in x]\n",
        "print(dx)\n",
        "\n",
        "# Same operation in numpy\n",
        "npx = np.array(x) # First convert x into numeric array\n",
        "dx  = 2 * npx  # Note lack of list comprehension\n",
        "print(dx)\n",
        "```"
      ]
    },
    {
      "cell_type": "code",
      "metadata": {
        "id": "g3L-UfjgrlR1",
        "colab_type": "code",
        "colab": {
          "base_uri": "https://localhost:8080/",
          "height": 85
        },
        "outputId": "548fc183-749c-405e-8599-743ac5a25bb8"
      },
      "source": [
        "import numpy as np\n",
        "x = [1, 2, 3]\n",
        "dx = [ 2 * elem for elem in x]\n",
        "print(dx)\n",
        "print(type(dx))\n",
        "\n",
        "\n",
        "# Same operation in numpy\n",
        "npx = np.array(x) # First convert x into numeric array\n",
        "dx  = npx * 2  # Note lack of list comprehension\n",
        "print(dx)\n",
        "print(type(dx))"
      ],
      "execution_count": 10,
      "outputs": [
        {
          "output_type": "stream",
          "text": [
            "[2, 4, 6]\n",
            "<class 'list'>\n",
            "[2 4 6]\n",
            "<class 'numpy.ndarray'>\n"
          ],
          "name": "stdout"
        }
      ]
    },
    {
      "cell_type": "markdown",
      "metadata": {
        "id": "ZsNaXdLEtU1H",
        "colab_type": "text"
      },
      "source": [
        "# Pandas\n",
        "\n",
        "<img src=https://pandas.pydata.org/_static/pandas_logo.png>\n",
        "\n",
        "* Pandas is a python library for analyzing data\n",
        "* Provides classes to read, manipulate and analyze *tabular data* \n",
        "  * Tabular or relational data is organized into rows and columns\n",
        "  * Rows contain individual elements\n",
        "  * Columns contain properties of each element\n",
        "* Using pandas in your code\n",
        "\n",
        "```python\n",
        "import pandas as pd\n",
        "```"
      ]
    },
    {
      "cell_type": "markdown",
      "metadata": {
        "id": "mXCn06ncvXGt",
        "colab_type": "text"
      },
      "source": [
        "# Pandas data structure\n",
        "* Pandas is built around two collection objects\n",
        "  * DataFrame\n",
        "    * Tabular data structure\n",
        "    * Consists of \n",
        "       * columns (each of which is a series)\n",
        "       * index: name(s) attached to rows\n",
        "       * Can be accessed as collection of rows and/or columns\n",
        "  * Series  \n",
        "    * Similar to a Numpy array\n",
        "    * Consists of a name, values and *index* \n",
        "      * Numpy arrays do not have an index\n",
        "    * The values and indices are themselves Numpy arrays\n",
        "      "
      ]
    },
    {
      "cell_type": "code",
      "metadata": {
        "id": "Bm7_OG9BtThV",
        "colab_type": "code",
        "colab": {
          "base_uri": "https://localhost:8080/",
          "height": 238
        },
        "outputId": "f5764260-0fef-4d70-d858-94e27bd09154"
      },
      "source": [
        "import pandas as pd\n",
        "\n",
        "# implicit index\n",
        "series = pd.Series([10, 20, 30])\n",
        "print(series)\n",
        "print\n",
        "\n",
        "# explicit index\n",
        "series = pd.Series([0, 1, 2, 3], index=[\"zero\", \"one\", \"two\", \"three\"])\n",
        "print(series)\n",
        "print\n",
        "\n",
        "# implicit index\n",
        "capitals = pd.Series({\n",
        "      'France': 'Paris',\n",
        "      'Japan': 'Tokyo', \n",
        "      'Germany': 'Berlin'})\n",
        "print(capitals)"
      ],
      "execution_count": 12,
      "outputs": [
        {
          "output_type": "stream",
          "text": [
            "0    10\n",
            "1    20\n",
            "2    30\n",
            "dtype: int64\n",
            "zero     0\n",
            "one      1\n",
            "two      2\n",
            "three    3\n",
            "dtype: int64\n",
            "France      Paris\n",
            "Japan       Tokyo\n",
            "Germany    Berlin\n",
            "dtype: object\n"
          ],
          "name": "stdout"
        }
      ]
    },
    {
      "cell_type": "code",
      "metadata": {
        "id": "1Y2gpMWavqMl",
        "colab_type": "code",
        "colab": {}
      },
      "source": [
        ""
      ],
      "execution_count": 0,
      "outputs": []
    }
  ]
}