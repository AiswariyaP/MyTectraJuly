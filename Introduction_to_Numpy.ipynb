{
  "nbformat": 4,
  "nbformat_minor": 0,
  "metadata": {
    "celltoolbar": "Slideshow",
    "kernelspec": {
      "display_name": "Python 3",
      "language": "python",
      "name": "python3"
    },
    "colab": {
      "name": "Introduction to Numpy.ipynb",
      "version": "0.3.2",
      "provenance": [],
      "include_colab_link": true
    }
  },
  "cells": [
    {
      "cell_type": "markdown",
      "metadata": {
        "id": "view-in-github",
        "colab_type": "text"
      },
      "source": [
        "<a href=\"https://colab.research.google.com/github/dipbanik/MyTectraJuly/blob/develop/Introduction_to_Numpy.ipynb\" target=\"_parent\"><img src=\"https://colab.research.google.com/assets/colab-badge.svg\" alt=\"Open In Colab\"/></a>"
      ]
    },
    {
      "cell_type": "markdown",
      "metadata": {
        "id": "bQK4ZuQun_ky",
        "colab_type": "text"
      },
      "source": [
        "# Numpy \n",
        "* Numpy is a python library for numeric processing\n",
        "  * Efficient way to deal with arrays and matrices\n",
        "  * Allows operation on entire arrays, matrices\n",
        "* Implemented in C and uses optimized math instructions for speed\n",
        "* Pandas is built on top of Numpy. \n",
        "  * Pandas objects usually accept Numpy arrays\n",
        "* Resources\n",
        "  * https://docs.scipy.org/doc/numpy-dev/user/quickstart.html\n",
        "  \n",
        "  "
      ]
    },
    {
      "cell_type": "markdown",
      "metadata": {
        "id": "AtBo4bNPn_kz",
        "colab_type": "text"
      },
      "source": [
        "## Example\n",
        "\n",
        "```python\n",
        "import numpy as np\n",
        "x = [1, 2, 3]\n",
        "dx = [ 2 * x for x in x]\n",
        "print(dx)\n",
        "\n",
        "# Same operation in numpy\n",
        "npx = np.array(x) # First convert x into numeric array\n",
        "dx  = 2 * npx  # Note lack of list comprehension\n",
        "print(dx)\n",
        "```"
      ]
    },
    {
      "cell_type": "code",
      "metadata": {
        "id": "SewTEh9-n_k1",
        "colab_type": "code",
        "colab": {
          "base_uri": "https://localhost:8080/",
          "height": 51
        },
        "outputId": "dc5faf7d-a7bf-4720-8c4b-1cc8e25b8c4f"
      },
      "source": [
        "import numpy as np\n",
        "\n",
        "x = [1, 2, 3]\n",
        "dx = []\n",
        "for item in x:\n",
        "    dx.append(2 * item)\n",
        "    \n",
        "\n",
        "print(dx)\n",
        "print(type(dx))\n",
        "\n",
        "\n"
      ],
      "execution_count": 1,
      "outputs": [
        {
          "output_type": "stream",
          "text": [
            "[2, 4, 6]\n",
            "<class 'list'>\n"
          ],
          "name": "stdout"
        }
      ]
    },
    {
      "cell_type": "code",
      "metadata": {
        "id": "y0pgZyqKn_k-",
        "colab_type": "code",
        "colab": {
          "base_uri": "https://localhost:8080/",
          "height": 34
        },
        "outputId": "18a6b2cb-85d7-481e-dbf4-adf164e26ef7"
      },
      "source": [
        "dx = [ (2 * elem)  for elem in x]\n",
        "dx"
      ],
      "execution_count": 2,
      "outputs": [
        {
          "output_type": "execute_result",
          "data": {
            "text/plain": [
              "[2, 4, 6]"
            ]
          },
          "metadata": {
            "tags": []
          },
          "execution_count": 2
        }
      ]
    },
    {
      "cell_type": "code",
      "metadata": {
        "id": "NA_7xNn8n_lC",
        "colab_type": "code",
        "colab": {
          "base_uri": "https://localhost:8080/",
          "height": 34
        },
        "outputId": "d80bf9c4-9dc5-4520-c841-c802b87877ab"
      },
      "source": [
        "# Same operation in numpydx = [ 2 * elem for elem in x]\n",
        "npx = np.array(x) # First convert x into numeric array\n",
        "type(npx), type(x)\n",
        "\n",
        "\n",
        "dx = 2 * np.array([10]) + 100 \n",
        "type(dx)\n",
        "\n",
        "dx.shape[0]"
      ],
      "execution_count": 6,
      "outputs": [
        {
          "output_type": "execute_result",
          "data": {
            "text/plain": [
              "(numpy.ndarray, list)"
            ]
          },
          "metadata": {
            "tags": []
          },
          "execution_count": 6
        }
      ]
    },
    {
      "cell_type": "code",
      "metadata": {
        "id": "Wu2UDV7cn_lG",
        "colab_type": "code",
        "colab": {},
        "outputId": "0a48e1d5-d79e-455b-a193-44846a5caf51"
      },
      "source": [
        "x = np.array(range(100))\n",
        "index = np.array(range(10)) * 2 \n",
        "\n",
        "x[index]"
      ],
      "execution_count": 0,
      "outputs": [
        {
          "output_type": "execute_result",
          "data": {
            "text/plain": [
              "array([ 0,  2,  4,  6,  8, 10, 12, 14, 16, 18])"
            ]
          },
          "metadata": {
            "tags": []
          },
          "execution_count": 47
        }
      ]
    },
    {
      "cell_type": "markdown",
      "metadata": {
        "id": "s7b8OpH0n_lO",
        "colab_type": "text"
      },
      "source": [
        "# NDArray\n",
        "* ndarray (n-dimensional array) is the primary data structure in NumPy\n",
        "* elements are all of the same type\n",
        "* supports multiple numeric types\n",
        "  * np.float32\n",
        "  * np.int32\n",
        "  * np.complex64 etc.\n",
        "* Unlike python lists, numpy arrays have attributes\n",
        "  * ndim - number of dimensions\n",
        "  * shape - shape of the array\n",
        "  * size - total elements\n",
        "  * dtype - data type of the elements\n",
        "* supports operators\n",
        "* allows fast indexing, slicing and reshaping"
      ]
    },
    {
      "cell_type": "code",
      "metadata": {
        "id": "PrwSdlEEn_lP",
        "colab_type": "code",
        "colab": {},
        "outputId": "2cd150d6-95d9-444d-e5e5-de9151ab7239"
      },
      "source": [
        "# Example\n",
        "matrix = [\n",
        "       [ 0,  1,  2,  3,  4],\n",
        "       [ 5,  6,  7,  8,  9],\n",
        "       [10, 11, 12, 13, 14]\n",
        "]\n",
        "arr = np.array(matrix)\n",
        "\n",
        "print(\"Shape\")\n",
        "print(arr.shape)\n",
        "\n",
        "print(\"Dimensions\")\n",
        "arr.ndim"
      ],
      "execution_count": 0,
      "outputs": [
        {
          "output_type": "stream",
          "text": [
            "Shape\n",
            "(3, 5)\n",
            "Dimensions\n"
          ],
          "name": "stdout"
        },
        {
          "output_type": "execute_result",
          "data": {
            "text/plain": [
              "2"
            ]
          },
          "metadata": {
            "tags": []
          },
          "execution_count": 48
        }
      ]
    },
    {
      "cell_type": "code",
      "metadata": {
        "id": "YihVlbeNn_lV",
        "colab_type": "code",
        "colab": {},
        "outputId": "078e5566-ac30-4d8f-a4a8-8fc042cbfa1a"
      },
      "source": [
        "x = np.array([30, 200, 200])\n",
        "x.dtype"
      ],
      "execution_count": 0,
      "outputs": [
        {
          "output_type": "execute_result",
          "data": {
            "text/plain": [
              "dtype('int32')"
            ]
          },
          "metadata": {
            "tags": []
          },
          "execution_count": 52
        }
      ]
    },
    {
      "cell_type": "markdown",
      "metadata": {
        "id": "LqH8-5Rvn_lf",
        "colab_type": "text"
      },
      "source": [
        "## Creating Numpy arrays\n",
        "\n",
        "* There are many ways to create numpy arrays\n",
        "  * from python lists\n",
        "  ```python\n",
        "    arr = np.array([1, 2, 3])\n",
        "  ```\n",
        "  * using initialization functions\n",
        "  ```python\n",
        "    # Create a 3x4 matrix\n",
        "    arr = np.zeros((3,4))\n",
        "    # Create an array same shape as arr, but with 0 elements\n",
        "    zarr = np.zeros_like(arr)\n",
        "    # Create an array with ones\n",
        "    np.ones((2,3))\n",
        "    # Create an unitialized array\n",
        "    np.empty((2,3))\n",
        "  ```\n",
        "  * using range functions\n",
        "  ```python\n",
        "  arr = np.arange(100) #create an array 0..99\n",
        "  ```"
      ]
    },
    {
      "cell_type": "code",
      "metadata": {
        "id": "b1EC-slqn_lm",
        "colab_type": "code",
        "colab": {},
        "outputId": "56f5975c-1faa-4402-b0b1-482bf49a183c"
      },
      "source": [
        "# Create a 3x4 matrix\n",
        "a = np.zeros((3,4))\n",
        "# Create an array same shape as arr, but with 0 elements\n",
        "b = np.zeros_like(a)\n",
        "# Create an array with ones\n",
        "c = np.ones((2,3))\n",
        "# Create an unitialized array\n",
        "d = np.empty((2,3))\n",
        "d = d * 0\n",
        "d"
      ],
      "execution_count": 0,
      "outputs": [
        {
          "output_type": "execute_result",
          "data": {
            "text/plain": [
              "array([[0., 0., 0.],\n",
              "       [0., 0., 0.]])"
            ]
          },
          "metadata": {
            "tags": []
          },
          "execution_count": 64
        }
      ]
    },
    {
      "cell_type": "code",
      "metadata": {
        "id": "20yqYT_Fn_lt",
        "colab_type": "code",
        "colab": {
          "base_uri": "https://localhost:8080/",
          "height": 187
        },
        "outputId": "1f5e42aa-0971-4f47-da32-5802d86b64f7"
      },
      "source": [
        "np.arange(100).reshape(5,20)"
      ],
      "execution_count": 12,
      "outputs": [
        {
          "output_type": "execute_result",
          "data": {
            "text/plain": [
              "array([[ 0,  1,  2,  3,  4,  5,  6,  7,  8,  9, 10, 11, 12, 13, 14, 15,\n",
              "        16, 17, 18, 19],\n",
              "       [20, 21, 22, 23, 24, 25, 26, 27, 28, 29, 30, 31, 32, 33, 34, 35,\n",
              "        36, 37, 38, 39],\n",
              "       [40, 41, 42, 43, 44, 45, 46, 47, 48, 49, 50, 51, 52, 53, 54, 55,\n",
              "        56, 57, 58, 59],\n",
              "       [60, 61, 62, 63, 64, 65, 66, 67, 68, 69, 70, 71, 72, 73, 74, 75,\n",
              "        76, 77, 78, 79],\n",
              "       [80, 81, 82, 83, 84, 85, 86, 87, 88, 89, 90, 91, 92, 93, 94, 95,\n",
              "        96, 97, 98, 99]])"
            ]
          },
          "metadata": {
            "tags": []
          },
          "execution_count": 12
        }
      ]
    },
    {
      "cell_type": "code",
      "metadata": {
        "id": "KSQu4s4hpPm6",
        "colab_type": "code",
        "colab": {
          "base_uri": "https://localhost:8080/",
          "height": 357
        },
        "outputId": "ccad30ee-1c64-440e-d645-d02d6dbad723"
      },
      "source": [
        "np.arange(100).reshape(5,20).T"
      ],
      "execution_count": 13,
      "outputs": [
        {
          "output_type": "execute_result",
          "data": {
            "text/plain": [
              "array([[ 0, 20, 40, 60, 80],\n",
              "       [ 1, 21, 41, 61, 81],\n",
              "       [ 2, 22, 42, 62, 82],\n",
              "       [ 3, 23, 43, 63, 83],\n",
              "       [ 4, 24, 44, 64, 84],\n",
              "       [ 5, 25, 45, 65, 85],\n",
              "       [ 6, 26, 46, 66, 86],\n",
              "       [ 7, 27, 47, 67, 87],\n",
              "       [ 8, 28, 48, 68, 88],\n",
              "       [ 9, 29, 49, 69, 89],\n",
              "       [10, 30, 50, 70, 90],\n",
              "       [11, 31, 51, 71, 91],\n",
              "       [12, 32, 52, 72, 92],\n",
              "       [13, 33, 53, 73, 93],\n",
              "       [14, 34, 54, 74, 94],\n",
              "       [15, 35, 55, 75, 95],\n",
              "       [16, 36, 56, 76, 96],\n",
              "       [17, 37, 57, 77, 97],\n",
              "       [18, 38, 58, 78, 98],\n",
              "       [19, 39, 59, 79, 99]])"
            ]
          },
          "metadata": {
            "tags": []
          },
          "execution_count": 13
        }
      ]
    },
    {
      "cell_type": "code",
      "metadata": {
        "id": "obFteIgsn_lx",
        "colab_type": "code",
        "colab": {},
        "outputId": "f52000d4-b809-4fa5-cfc7-304eecf778e6"
      },
      "source": [
        "# Operators\n",
        "x = np.array([1, 2, 3])\n",
        "y = np.array([5, 6, 7])\n",
        "\n",
        "# Mathematical operators\n",
        "result = x + y\n",
        "print(result)\n",
        "result = x * y\n",
        "print(result)\n",
        "result = x - y\n",
        "print(result)\n",
        "\n",
        "# Unary\n",
        "result = x.T # transpose\n",
        "print(result.shape, result.T.shape)\n",
        "\n",
        "# Summary functions\n",
        "result = x.sum()\n",
        "result = x.mean()\n",
        "result = x.min()\n",
        "result = x.max()\n",
        "result = x.argmax()\n",
        "result = x.argmin()"
      ],
      "execution_count": 0,
      "outputs": [
        {
          "output_type": "stream",
          "text": [
            "[ 6  8 10]\n",
            "[ 5 12 21]\n",
            "[-4 -4 -4]\n",
            "(3,) (3,)\n"
          ],
          "name": "stdout"
        }
      ]
    },
    {
      "cell_type": "code",
      "metadata": {
        "id": "avqR44fln_l1",
        "colab_type": "code",
        "colab": {}
      },
      "source": [
        ""
      ],
      "execution_count": 0,
      "outputs": []
    },
    {
      "cell_type": "code",
      "metadata": {
        "id": "WH4Jr0dRn_l5",
        "colab_type": "code",
        "colab": {},
        "outputId": "510752cb-70e6-484e-d254-0741a9c22fdf"
      },
      "source": [
        "arr = np.arange(10)\n",
        "gt3 = arr > 3\n",
        "even = arr % 2 == 0\n",
        "gt3, even\n",
        "\n",
        "arr [(arr > 3)  | (arr % 2 == 0)]"
      ],
      "execution_count": 0,
      "outputs": [
        {
          "output_type": "execute_result",
          "data": {
            "text/plain": [
              "array([0, 2, 4, 5, 6, 7, 8, 9])"
            ]
          },
          "metadata": {
            "tags": []
          },
          "execution_count": 124
        }
      ]
    },
    {
      "cell_type": "code",
      "metadata": {
        "id": "8iPk1wmEn_l-",
        "colab_type": "code",
        "colab": {},
        "outputId": "d022e683-2a86-4dfd-a251-1d80bd77fc41"
      },
      "source": [
        "# Slicing\n",
        "arr = np.array(range(100)).reshape(20,5)\n",
        "y = arr[0:2, :]\n",
        "print(id(y))\n",
        "print(id(arr[0:2, :]))"
      ],
      "execution_count": 0,
      "outputs": [
        {
          "output_type": "stream",
          "text": [
            "2170457454432\n",
            "2170457454352\n"
          ],
          "name": "stdout"
        }
      ]
    },
    {
      "cell_type": "code",
      "metadata": {
        "id": "GniUxsQQn_mC",
        "colab_type": "code",
        "colab": {},
        "outputId": "03a11122-bec9-4918-d0f4-407ca8f34652"
      },
      "source": [
        "# Logical slicing\n",
        "greater_than_3 = arr > 3\n",
        "print(greater_than_3)\n",
        "\n",
        "# Boolean indexing\n",
        "print(arr[arr > 3])\n",
        "print(arr[greater_than_3])\n",
        "\n"
      ],
      "execution_count": 0,
      "outputs": [
        {
          "output_type": "stream",
          "text": [
            "[[False False False False  True]\n",
            " [ True  True  True  True  True]]\n",
            "[4 5 6 7 8 9]\n",
            "[4 5 6 7 8 9]\n"
          ],
          "name": "stdout"
        }
      ]
    },
    {
      "cell_type": "code",
      "metadata": {
        "id": "QFxR6x6Cn_mJ",
        "colab_type": "code",
        "colab": {},
        "outputId": "4c54e286-b38f-4c4a-e422-19c5395d5a13"
      },
      "source": [
        "# You can combine multiple conditions at once\n",
        "arr[(arr > 3) & (arr %2 == 0)]\n"
      ],
      "execution_count": 0,
      "outputs": [
        {
          "output_type": "execute_result",
          "data": {
            "text/plain": [
              "array([4, 6, 8])"
            ]
          },
          "metadata": {
            "tags": []
          },
          "execution_count": 15
        }
      ]
    },
    {
      "cell_type": "code",
      "metadata": {
        "id": "QcU5Glw-n_mN",
        "colab_type": "code",
        "colab": {},
        "outputId": "473153a4-c58d-4292-ace5-64f2488ab982"
      },
      "source": [
        "# Iterating through arrays\n",
        "arr = np.arange(30).reshape(3, 2, 5)\n",
        "\n",
        "for row in arr:\n",
        "    print(row)"
      ],
      "execution_count": 0,
      "outputs": [
        {
          "output_type": "stream",
          "text": [
            "[[0 1 2 3 4]\n",
            " [5 6 7 8 9]]\n",
            "[[10 11 12 13 14]\n",
            " [15 16 17 18 19]]\n",
            "[[20 21 22 23 24]\n",
            " [25 26 27 28 29]]\n"
          ],
          "name": "stdout"
        }
      ]
    },
    {
      "cell_type": "code",
      "metadata": {
        "id": "_wbArdFOn_mW",
        "colab_type": "code",
        "colab": {}
      },
      "source": [
        ""
      ],
      "execution_count": 0,
      "outputs": []
    }
  ]
}